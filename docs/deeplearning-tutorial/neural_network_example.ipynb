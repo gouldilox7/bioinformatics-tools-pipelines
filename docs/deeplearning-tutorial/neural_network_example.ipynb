{
 "cells": [
  {
   "cell_type": "markdown",
   "id": "passing-defendant",
   "metadata": {},
   "source": [
    "### Example PyTorch training workflow\n",
    "\n",
    "Given two tensor data X and Y, we want to train the network to learn the relation between X and Y"
   ]
  },
  {
   "cell_type": "code",
   "execution_count": null,
   "id": "english-familiar",
   "metadata": {},
   "outputs": [
    {
     "name": "stdout",
     "output_type": "stream",
     "text": [
      "Initial w =  0.07000000029802322\n",
      "epoch  1 : loss =  27.936748504638672  w =  0.3594999611377716\n",
      "epoch  11 : loss =  1.0828158855438232  w =  1.6770274639129639\n",
      "epoch  21 : loss =  0.041969478130340576  w =  1.9364149570465088\n",
      "epoch  31 : loss =  0.0016267357859760523  w =  1.9874815940856934\n",
      "epoch  41 : loss =  6.305030547082424e-05  w =  1.9975354671478271\n",
      "epoch  51 : loss =  2.443372977722902e-06  w =  1.9995148181915283\n",
      "epoch  61 : loss =  9.475731133079535e-08  w =  1.9999043941497803\n",
      "epoch  71 : loss =  3.695234340739262e-09  w =  1.999981164932251\n",
      "epoch  81 : loss =  1.4670220593870908e-10  w =  1.999996304512024\n",
      "epoch  91 : loss =  5.076827847005916e-12  w =  1.9999992847442627\n"
     ]
    }
   ],
   "source": [
    "import torch\n",
    "\n",
    "# Define a simple model\n",
    "class SimpleModel(torch.nn.Module):\n",
    "    def __init__(self):\n",
    "        super(SimpleModel, self).__init__()\n",
    "        self.weight = torch.tensor(0.07, dtype=torch.float32, requires_grad=True)\n",
    "\n",
    "    def forward(self, x):\n",
    "        return self.weight * x\n",
    "\n",
    "\n",
    "# Create an instance of the model\n",
    "model = SimpleModel()\n",
    "\n",
    "# Initialize tensors X and Y with float data type\n",
    "X = torch.tensor([1, 2, 3, 4], dtype=torch.float32)\n",
    "Y = torch.tensor([2, 4, 6, 8], dtype=torch.float32)\n",
    "\n",
    "# Set initial learning rate and number of iterations\n",
    "learning_rate = 0.01\n",
    "n_iters = 100\n",
    "\n",
    "# Create torch mean squared error loss function\n",
    "criterion = torch.nn.MSELoss()\n",
    "\n",
    "\n",
    "# print initial weight\n",
    "print(\"Initial w = \", model.weight.item())\n",
    "\n",
    "# Start training\n",
    "# For each iteration\n",
    "for epoch in range(n_iters):\n",
    "    # 1. Forward pass\n",
    "    y_pred = model(X)\n",
    "    \n",
    "    # 2. Calculate loss\n",
    "    loss = criterion(Y, y_pred)\n",
    "    \n",
    "    # 3. Backward pass (calculate gradients)\n",
    "    loss.backward()\n",
    "    \n",
    "    # 4. Update weights parameters\n",
    "    with torch.no_grad():\n",
    "        model.weight -= learning_rate * model.weight.grad\n",
    "        \n",
    "    # 5. Zero out gradients to avoid accumulating in buffers (optional)\n",
    "    model.weight.grad.zero_()\n",
    "        \n",
    "    if epoch % 10 == 0:\n",
    "        #weight = model.linear.weight.item()\n",
    "        print(\"epoch \", epoch+1, \": loss = \", loss.item(), \" w = \", model.weight.item())\n"
   ]
  },
  {
   "cell_type": "code",
   "execution_count": 6,
   "id": "sealed-dominican",
   "metadata": {},
   "outputs": [
    {
     "name": "stdout",
     "output_type": "stream",
     "text": [
      "Input:  tensor([5., 6., 7., 8.])\n",
      "predicted values:  tensor([10.0000, 12.0000, 14.0000, 16.0000])\n"
     ]
    }
   ],
   "source": [
    "# Testing with different tensor values\n",
    "input_X = torch.tensor([5, 6, 7, 8], dtype=torch.float32)\n",
    "with torch.no_grad():\n",
    "    pred = model(input_X)\n",
    "print(\"Input: \", input_X)\n",
    "print(\"predicted values: \", pred)\n"
   ]
  },
  {
   "cell_type": "markdown",
   "id": "plastic-square",
   "metadata": {},
   "source": [
    "Change X and Y values and train the network again"
   ]
  }
 ],
 "metadata": {
  "kernelspec": {
   "display_name": "Python 3 (Deep Learning)",
   "language": "python",
   "name": "deeplearning"
  },
  "language_info": {
   "codemirror_mode": {
    "name": "ipython",
    "version": 3
   },
   "file_extension": ".py",
   "mimetype": "text/x-python",
   "name": "python",
   "nbconvert_exporter": "python",
   "pygments_lexer": "ipython3",
   "version": "3.11.6"
  }
 },
 "nbformat": 4,
 "nbformat_minor": 5
}
